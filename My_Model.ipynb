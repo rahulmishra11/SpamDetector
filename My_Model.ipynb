{
 "cells": [
  {
   "cell_type": "code",
   "execution_count": 1,
   "metadata": {},
   "outputs": [],
   "source": [
    "import numpy as np\n",
    "import pandas as pd\n",
    "import re\n",
    "from sklearn.model_selection import train_test_split\n",
    "from sklearn.metrics import confusion_matrix,accuracy_score\n",
    "from sklearn import metrics"
   ]
  },
  {
   "cell_type": "code",
   "execution_count": 2,
   "metadata": {},
   "outputs": [],
   "source": [
    "df=pd.read_csv('/home/rahul/SpamMessage/spam.csv',encoding='ISO-8859-1')"
   ]
  },
  {
   "cell_type": "code",
   "execution_count": 3,
   "metadata": {
    "scrolled": true
   },
   "outputs": [
    {
     "data": {
      "text/html": [
       "<div>\n",
       "<style scoped>\n",
       "    .dataframe tbody tr th:only-of-type {\n",
       "        vertical-align: middle;\n",
       "    }\n",
       "\n",
       "    .dataframe tbody tr th {\n",
       "        vertical-align: top;\n",
       "    }\n",
       "\n",
       "    .dataframe thead th {\n",
       "        text-align: right;\n",
       "    }\n",
       "</style>\n",
       "<table border=\"1\" class=\"dataframe\">\n",
       "  <thead>\n",
       "    <tr style=\"text-align: right;\">\n",
       "      <th></th>\n",
       "      <th>v1</th>\n",
       "      <th>v2</th>\n",
       "      <th>Unnamed: 2</th>\n",
       "      <th>Unnamed: 3</th>\n",
       "      <th>Unnamed: 4</th>\n",
       "    </tr>\n",
       "  </thead>\n",
       "  <tbody>\n",
       "    <tr>\n",
       "      <th>0</th>\n",
       "      <td>ham</td>\n",
       "      <td>Go until jurong point, crazy.. Available only ...</td>\n",
       "      <td>NaN</td>\n",
       "      <td>NaN</td>\n",
       "      <td>NaN</td>\n",
       "    </tr>\n",
       "    <tr>\n",
       "      <th>1</th>\n",
       "      <td>ham</td>\n",
       "      <td>Ok lar... Joking wif u oni...</td>\n",
       "      <td>NaN</td>\n",
       "      <td>NaN</td>\n",
       "      <td>NaN</td>\n",
       "    </tr>\n",
       "    <tr>\n",
       "      <th>2</th>\n",
       "      <td>spam</td>\n",
       "      <td>Free entry in 2 a wkly comp to win FA Cup fina...</td>\n",
       "      <td>NaN</td>\n",
       "      <td>NaN</td>\n",
       "      <td>NaN</td>\n",
       "    </tr>\n",
       "    <tr>\n",
       "      <th>3</th>\n",
       "      <td>ham</td>\n",
       "      <td>U dun say so early hor... U c already then say...</td>\n",
       "      <td>NaN</td>\n",
       "      <td>NaN</td>\n",
       "      <td>NaN</td>\n",
       "    </tr>\n",
       "    <tr>\n",
       "      <th>4</th>\n",
       "      <td>ham</td>\n",
       "      <td>Nah I don't think he goes to usf, he lives aro...</td>\n",
       "      <td>NaN</td>\n",
       "      <td>NaN</td>\n",
       "      <td>NaN</td>\n",
       "    </tr>\n",
       "  </tbody>\n",
       "</table>\n",
       "</div>"
      ],
      "text/plain": [
       "     v1                                                 v2 Unnamed: 2  \\\n",
       "0   ham  Go until jurong point, crazy.. Available only ...        NaN   \n",
       "1   ham                      Ok lar... Joking wif u oni...        NaN   \n",
       "2  spam  Free entry in 2 a wkly comp to win FA Cup fina...        NaN   \n",
       "3   ham  U dun say so early hor... U c already then say...        NaN   \n",
       "4   ham  Nah I don't think he goes to usf, he lives aro...        NaN   \n",
       "\n",
       "  Unnamed: 3 Unnamed: 4  \n",
       "0        NaN        NaN  \n",
       "1        NaN        NaN  \n",
       "2        NaN        NaN  \n",
       "3        NaN        NaN  \n",
       "4        NaN        NaN  "
      ]
     },
     "execution_count": 3,
     "metadata": {},
     "output_type": "execute_result"
    }
   ],
   "source": [
    "df.head()"
   ]
  },
  {
   "cell_type": "code",
   "execution_count": 4,
   "metadata": {},
   "outputs": [],
   "source": [
    "#remove the unnecessary column 'Unnamed:2','Unnamed:3','Unnamed:4'\n",
    "del df['Unnamed: 2']\n",
    "del df['Unnamed: 3']\n",
    "del df['Unnamed: 4']"
   ]
  },
  {
   "cell_type": "code",
   "execution_count": 5,
   "metadata": {},
   "outputs": [
    {
     "data": {
      "text/html": [
       "<div>\n",
       "<style scoped>\n",
       "    .dataframe tbody tr th:only-of-type {\n",
       "        vertical-align: middle;\n",
       "    }\n",
       "\n",
       "    .dataframe tbody tr th {\n",
       "        vertical-align: top;\n",
       "    }\n",
       "\n",
       "    .dataframe thead th {\n",
       "        text-align: right;\n",
       "    }\n",
       "</style>\n",
       "<table border=\"1\" class=\"dataframe\">\n",
       "  <thead>\n",
       "    <tr style=\"text-align: right;\">\n",
       "      <th></th>\n",
       "      <th>v1</th>\n",
       "      <th>v2</th>\n",
       "    </tr>\n",
       "  </thead>\n",
       "  <tbody>\n",
       "    <tr>\n",
       "      <th>0</th>\n",
       "      <td>ham</td>\n",
       "      <td>Go until jurong point, crazy.. Available only ...</td>\n",
       "    </tr>\n",
       "    <tr>\n",
       "      <th>1</th>\n",
       "      <td>ham</td>\n",
       "      <td>Ok lar... Joking wif u oni...</td>\n",
       "    </tr>\n",
       "    <tr>\n",
       "      <th>2</th>\n",
       "      <td>spam</td>\n",
       "      <td>Free entry in 2 a wkly comp to win FA Cup fina...</td>\n",
       "    </tr>\n",
       "    <tr>\n",
       "      <th>3</th>\n",
       "      <td>ham</td>\n",
       "      <td>U dun say so early hor... U c already then say...</td>\n",
       "    </tr>\n",
       "    <tr>\n",
       "      <th>4</th>\n",
       "      <td>ham</td>\n",
       "      <td>Nah I don't think he goes to usf, he lives aro...</td>\n",
       "    </tr>\n",
       "  </tbody>\n",
       "</table>\n",
       "</div>"
      ],
      "text/plain": [
       "     v1                                                 v2\n",
       "0   ham  Go until jurong point, crazy.. Available only ...\n",
       "1   ham                      Ok lar... Joking wif u oni...\n",
       "2  spam  Free entry in 2 a wkly comp to win FA Cup fina...\n",
       "3   ham  U dun say so early hor... U c already then say...\n",
       "4   ham  Nah I don't think he goes to usf, he lives aro..."
      ]
     },
     "execution_count": 5,
     "metadata": {},
     "output_type": "execute_result"
    }
   ],
   "source": [
    "# now the unnecessary columns have been deleted\n",
    "df.head()"
   ]
  },
  {
   "cell_type": "code",
   "execution_count": 6,
   "metadata": {},
   "outputs": [
    {
     "name": "stdout",
     "output_type": "stream",
     "text": [
      "<class 'pandas.core.frame.DataFrame'>\n",
      "RangeIndex: 5572 entries, 0 to 5571\n",
      "Data columns (total 2 columns):\n",
      " #   Column   Non-Null Count  Dtype \n",
      "---  ------   --------------  ----- \n",
      " 0   label    5572 non-null   object\n",
      " 1   message  5572 non-null   object\n",
      "dtypes: object(2)\n",
      "memory usage: 87.2+ KB\n"
     ]
    }
   ],
   "source": [
    "#to check whether any entry is NaN \n",
    "df.columns=['label','message']\n",
    "df.info()"
   ]
  },
  {
   "cell_type": "code",
   "execution_count": 7,
   "metadata": {},
   "outputs": [
    {
     "data": {
      "text/html": [
       "<div>\n",
       "<style scoped>\n",
       "    .dataframe tbody tr th:only-of-type {\n",
       "        vertical-align: middle;\n",
       "    }\n",
       "\n",
       "    .dataframe tbody tr th {\n",
       "        vertical-align: top;\n",
       "    }\n",
       "\n",
       "    .dataframe thead th {\n",
       "        text-align: right;\n",
       "    }\n",
       "</style>\n",
       "<table border=\"1\" class=\"dataframe\">\n",
       "  <thead>\n",
       "    <tr style=\"text-align: right;\">\n",
       "      <th></th>\n",
       "      <th>message</th>\n",
       "    </tr>\n",
       "    <tr>\n",
       "      <th>label</th>\n",
       "      <th></th>\n",
       "    </tr>\n",
       "  </thead>\n",
       "  <tbody>\n",
       "    <tr>\n",
       "      <th>ham</th>\n",
       "      <td>4825</td>\n",
       "    </tr>\n",
       "    <tr>\n",
       "      <th>spam</th>\n",
       "      <td>747</td>\n",
       "    </tr>\n",
       "  </tbody>\n",
       "</table>\n",
       "</div>"
      ],
      "text/plain": [
       "       message\n",
       "label         \n",
       "ham       4825\n",
       "spam       747"
      ]
     },
     "execution_count": 7,
     "metadata": {},
     "output_type": "execute_result"
    }
   ],
   "source": [
    "#no.of ham and spam messages in dataset\n",
    "df.groupby('label').count()"
   ]
  },
  {
   "cell_type": "code",
   "execution_count": 8,
   "metadata": {},
   "outputs": [],
   "source": [
    "def preprocessing_of_messages(text):\n",
    "    text=text.lower()\n",
    "    text=re.sub(\"start\",\"\",text)\n",
    "    text=re.sub(\"voice\",\"\",text)\n",
    "    text=re.sub(r\"i'm\",\"i am\",text)\n",
    "    text=re.sub(r\"he's\",\"he is\",text)\n",
    "    text=re.sub(r\"she's\",\"she is\",text)\n",
    "    text=re.sub(r\"what's\",\"what is\",text)\n",
    "    text=re.sub(r\"where's\",\"where is\",text)\n",
    "    text=re.sub(r\"that's\",\"that is\",text)\n",
    "    text=re.sub('[^a-zA-Z]',' ',text)\n",
    "    text=re.sub(r\"\\'ll\",\" will\",text)\n",
    "    text=re.sub(r\"\\'ve'\",\" have\",text)\n",
    "    text = re.sub(r\"\\'re\", \" are\", text)\n",
    "    text = re.sub(r\"\\'d\", \" would\", text)\n",
    "    text = re.sub(r\"won't\", \"will not\", text)\n",
    "    text = re.sub(r\"don't\", \"do not\", text)\n",
    "    text = re.sub(r\"can't\", \"cannot\", text)\n",
    "    text = re.sub(r\"[-()!*\\\"#/@;:<>{}\"\"^+=~|.?,]\", \"\", text)\n",
    "    text = re.sub(\" +\",\" \",text) # for multiple spaces\n",
    "   \n",
    "   \n",
    "    \n",
    "    emoji = re.compile(\"[\"\n",
    "        u\"\\U0001F600-\\U0001F64F\"  # emoticons\n",
    "        u\"\\U0001F300-\\U0001F5FF\"  # symbols & pictographs\n",
    "        u\"\\U0001F680-\\U0001F6FF\"  # transport & map symbols\n",
    "        u\"\\U0001F1E0-\\U0001F1FF\"  # flags (iOS)\n",
    "        u\"\\U00002500-\\U00002BEF\"  # chinese char\n",
    "        u\"\\U00002702-\\U000027B0\"\n",
    "        u\"\\U00002702-\\U000027B0\"\n",
    "        u\"\\U000024C2-\\U0001F251\"\n",
    "        u\"\\U0001f926-\\U0001f937\"\n",
    "        u\"\\U00010000-\\U0010ffff\"\n",
    "        u\"\\u2640-\\u2642\" \n",
    "        u\"\\u2600-\\u2B55\"\n",
    "        u\"\\u200d\"\n",
    "        u\"\\u23cf\"\n",
    "        u\"\\u23e9\"\n",
    "        u\"\\u231a\"\n",
    "        u\"\\ufe0f\"  # dingbats\n",
    "        u\"\\u3030\"\n",
    "                      \"]+\", re.UNICODE)\n",
    "    return emoji.sub(r'', text)\n",
    "    "
   ]
  },
  {
   "cell_type": "code",
   "execution_count": 9,
   "metadata": {},
   "outputs": [],
   "source": [
    "index=df.index\n",
    "for i in range(0,len(index)):\n",
    "    ans=df.loc[i:i,\"message\"]\n",
    "    res=''\n",
    "    for word in ans:\n",
    "        res+=preprocessing_of_messages(word)\n",
    "    df.loc[i:i,\"message\"]=res"
   ]
  },
  {
   "cell_type": "code",
   "execution_count": 10,
   "metadata": {},
   "outputs": [
    {
     "data": {
      "text/plain": [
       "0       go until jurong point crazy available only in ...\n",
       "1                                ok lar joking wif u oni \n",
       "2       free entry in a wkly comp to win fa cup final ...\n",
       "3            u dun say so early hor u c already then say \n",
       "4       nah i don t think he goes to usf he lives arou...\n",
       "                              ...                        \n",
       "5567    this is the nd time we have tried contact u u ...\n",
       "5568                   will b going to esplanade fr home \n",
       "5569    pity was in mood for that so any other suggest...\n",
       "5570    the guy did some bitching but i acted like i d...\n",
       "5571                            rofl its true to its name\n",
       "Name: message, Length: 5572, dtype: object"
      ]
     },
     "execution_count": 10,
     "metadata": {},
     "output_type": "execute_result"
    }
   ],
   "source": [
    "df.loc[:,\"message\"]"
   ]
  },
  {
   "cell_type": "code",
   "execution_count": 11,
   "metadata": {},
   "outputs": [
    {
     "name": "stderr",
     "output_type": "stream",
     "text": [
      "[nltk_data] Downloading package stopwords to /home/rahul/nltk_data...\n",
      "[nltk_data]   Package stopwords is already up-to-date!\n"
     ]
    }
   ],
   "source": [
    "import nltk\n",
    "nltk.download('stopwords')\n",
    "from nltk.corpus import stopwords\n",
    "from nltk.stem.porter import PorterStemmer\n",
    "import pickle"
   ]
  },
  {
   "cell_type": "code",
   "execution_count": 12,
   "metadata": {},
   "outputs": [
    {
     "name": "stderr",
     "output_type": "stream",
     "text": [
      "[nltk_data] Downloading package punkt to /home/rahul/nltk_data...\n",
      "[nltk_data]   Package punkt is already up-to-date!\n"
     ]
    },
    {
     "data": {
      "text/plain": [
       "True"
      ]
     },
     "execution_count": 12,
     "metadata": {},
     "output_type": "execute_result"
    }
   ],
   "source": [
    "import nltk\n",
    "nltk.download('punkt')"
   ]
  },
  {
   "cell_type": "code",
   "execution_count": 13,
   "metadata": {},
   "outputs": [],
   "source": [
    "###Tokenization and Stemming\n",
    "# There are two types of stemmers in NLTK: Porter Stemmer and Snowball stemmers. \n",
    "# We will implement Porter Stemmer here\n",
    "stemmer=PorterStemmer()\n",
    "c=[]\n",
    "for i in range(0,len(df)):\n",
    "    message =df['message'][i]\n",
    "    message=nltk.word_tokenize(message)\n",
    "    message=[stemmer.stem(word) for word in message if not word in stopwords.words('english')]\n",
    "    message=' '.join(message)\n",
    "    c.append(message)"
   ]
  },
  {
   "cell_type": "code",
   "execution_count": 14,
   "metadata": {},
   "outputs": [
    {
     "name": "stdout",
     "output_type": "stream",
     "text": [
      "['aa', 'aah', 'aaooooright', 'aathi', 'abdomen', 'aberdeen', 'abi', 'abil', 'abiola', 'abj', 'abl', 'abouta', 'absenc', 'absolut', 'absolutli', 'abstract', 'abt', 'abta', 'aburo', 'abus', 'ac', 'academ', 'acc', 'accent', 'accept', 'access', 'accid', 'accident', 'accommodationvouch', 'accomod', 'accordingli', 'account', 'ach', 'achan', 'acl', 'aco', 'across', 'act', 'actin', 'action', 'activ', 'actor', 'actual', 'ad', 'adam', 'add', 'addamsfa', 'addi', 'addict', 'address', 'adi', 'adjust', 'admin', 'administr', 'admir', 'admiss', 'admit', 'ador', 'adp', 'adress', 'adrian', 'adsens', 'adult', 'advanc', 'adventur', 'advic', 'advis', 'advisor', 'ae', 'aeronaut', 'aeroplan', 'afew', 'affair', 'affect', 'afghanistan', 'afraid', 'africa', 'african', 'aft', 'afternon', 'afternoon', 'afterward', 'aftr', 'ag', 'agalla', 'age', 'agenc', 'agent', 'ago', 'agre', 'ah', 'aha', 'ahead', 'ahhh', 'ahhhh', 'ahmad', 'ahold', 'aid', 'aight', 'aint', 'air', 'airport', 'airtel', 'aiya', 'aiyah', 'aiyar', 'aiyo', 'aj', 'ajith', 'aka', 'akon', 'al', 'alaikkum', 'alaipayuth', 'albi', 'album', 'alcohol', 'aldrin', 'alert', 'alett', 'alex', 'alfi', 'algarv', 'algebra', 'algorithm', 'ali', 'aliv', 'all', 'allah', 'allalo', 'allday', 'allow', 'almost', 'alon', 'along', 'alot', 'alreadi', 'alright', 'alrit', 'also', 'alter', 'altern', 'although', 'alto', 'alway', 'alwi', 'am', 'ama', 'amanda', 'amaz', 'ambrith', 'american', 'ami', 'amma', 'among', 'amongst', 'amor', 'amount', 'amp', 'amplikat', 'amrca', 'amrita', 'amt', 'amus', 'an', 'ana', 'anderson', 'andr', 'andro', 'angel', 'angri', 'anim', 'anna', 'anni', 'anniversari', 'annonc', 'announc', 'annoy', 'anonym', 'anot', 'anoth', 'ansr', 'answer', 'answerin', 'antelop', 'anthoni', 'anti', 'antibiot', 'anybodi', 'anymor', 'anyon', 'anyth', 'anythi', 'anythin', 'anythingtomorrow', 'anytim', 'anyway', 'anywher', 'aom', 'apart', 'apnt', 'apo', 'apolog', 'apologet', 'apologis', 'app', 'appar', 'appeal', 'appi', 'appl', 'applebe', 'appli', 'applic', 'appoint', 'appreci', 'approach', 'appropri', 'approv', 'approx', 'appt', 'april', 'aproach', 'aquariu', 'ar', 'arab', 'arabian', 'arcad', 'archiv', 'ard', 'area', 'arent', 'aretak', 'areyouuniqu', 'argh', 'argu', 'argument', 'ari', 'aris', 'arithmet', 'arm', 'armand', 'armenia', 'arng', 'arnt', 'around', 'aroundn', 'arrang', 'arrest', 'arriv', 'arsen', 'art', 'arun', 'asa', 'asap', 'asda', 'ash', 'ashley', 'ashwini', 'asia', 'asian', 'ask', 'askd', 'askin', 'aslamalaikkum', 'asleep', 'asp', 'ass', 'assess', 'assist', 'associ', 'asssssholeee', 'assum', 'asther', 'asthma', 'astrolog', 'astronom', 'asu', 'ate', 'athom', 'atlanta', 'atlast', 'atleast', 'atm', 'atroci', 'attach', 'attack', 'attempt', 'attend', 'attent', 'attract', 'auction', 'audiit', 'audit', 'audrey', 'audri', 'august', 'aunt', 'aunti', 'australia', 'authoris', 'auto', 'autocorrect', 'av', 'avail', 'availa', 'avalarr', 'avatar', 'ave', 'avent', 'avenu', 'avin', 'avoid', 'await', 'awak', 'award', 'away', 'awesom', 'awkward', 'aww', 'awww', 'axel', 'axi', 'ayn', 'ayo', 'ba', 'baaaaaaaab', 'babe', 'babi', 'babygoodby', 'babyjontet', 'babysit', 'bac', 'back', 'backdoor', 'backward', 'bad', 'badass', 'badli', 'badrith', 'bag', 'bahama', 'baig', 'bailiff', 'bajarangabali', 'bak', 'balanc', 'ball', 'baller', 'bam', 'bambl', 'band', 'bandag', 'bang', 'bangb', 'bangbab', 'bank', 'banneduk', 'bar', 'barbi', 'bare', 'bari', 'barkley', 'barm', 'barolla', 'barrel', 'barri', 'base', 'basic', 'basketbal', 'bat', 'batch', 'batchlor', 'bath', 'batsman', 'batteri', 'bawl', 'bay', 'bb', 'bbd', 'bbdelux', 'bc', 'bcaz', 'bck', 'bcm', 'bcoz', 'bcum', 'bcz', 'bday', 'bead', 'bear', 'beat', 'beauti', 'bec', 'becom', 'becoz', 'bed', 'bedrm', 'bedroom', 'beeen', 'beendrop', 'beer', 'beerag', 'befor', 'beforehand', 'beg', 'begin', 'behalf', 'behav', 'behind', 'bein', 'believ', 'beliv', 'bell', 'belli', 'belong', 'belov', 'belovd', 'belt', 'ben', 'bend', 'beneath', 'beneficiari', 'benefit', 'benni', 'bergkamp', 'besid', 'best', 'bet', 'better', 'bettersn', 'beverag', 'bevi', 'bewar', 'beyond', 'bf', 'bff', 'bhaji', 'bhamb', 'bhaskar', 'bhayandar', 'bid', 'big', 'bigger', 'biggest', 'bill', 'billi', 'billion', 'bimbo', 'bin', 'biola', 'bird', 'birla', 'birth', 'birthdat', 'birthday', 'bishan', 'bit', 'bitch', 'bite', 'biz', 'black', 'blackberri', 'blacko', 'blah', 'blake', 'blame', 'blank', 'blanket', 'bleh', 'bless', 'blind', 'block', 'blog', 'blogspot', 'bloke', 'blond', 'bloo', 'blood', 'bloodi', 'bloomberg', 'blow', 'blown', 'blu', 'blue', 'bluetooth', 'bluff', 'blur', 'bluray', 'bmw', 'board', 'boat', 'boatin', 'bob', 'bodi', 'bold', 'bomb', 'bone', 'bong', 'bonu', 'boo', 'boob', 'book', 'bookedth', 'bookmark', 'bookshelf', 'boooo', 'boost', 'booti', 'bootydeli', 'borderlin', 'bore', 'borin', 'born', 'borrow', 'boss', 'boston', 'bot', 'bother', 'bottl', 'bottom', 'bought', 'boundari', 'bout', 'bowl', 'box', 'boy', 'boyfriend', 'boytoy', 'bp', 'bpo', 'bra', 'brah', 'brain', 'braini', 'brainless', 'brand', 'brandi', 'bray', 'brb', 'bread', 'breadstick', 'break', 'breaker', 'breakin', 'breath', 'breather', 'breezi', 'bremov', 'bribe', 'bridal', 'bridg', 'brief', 'bright', 'brilliant', 'brilliantli', 'bring', 'brisk', 'brison', 'bristol', 'british', 'britney', 'bro', 'broad', 'broadband', 'broke', 'broken', 'brolli', 'broth', 'brotha', 'brother', 'brought', 'brown', 'browni', 'browser', 'bruce', 'bruv', 'bslvyl', 'bsn', 'bstfrnd', 'bt', 'btw', 'btwn', 'bu', 'buck', 'bud', 'buddi', 'budget', 'buff', 'buffet', 'bugi', 'build', 'built', 'bulb', 'bull', 'bullshit', 'bun', 'bunch', 'burden', 'burger', 'burgundi', 'burn', 'burrito', 'buse', 'busi', 'busti', 'butt', 'butther', 'buy', 'buyer', 'buzi', 'buzz', 'bw', 'bx', 'bye', 'cab', 'cabin', 'cabl', 'cafe', 'cake', 'cal', 'calcul', 'cali', 'calicut', 'california', 'call', 'callback', 'callcost', 'calld', 'caller', 'callertun', 'callfreefon', 'callin', 'calm', 'cam', 'camcord', 'came', 'camera', 'camp', 'campu', 'camri', 'canada', 'canal', 'canari', 'cancel', 'cancer', 'canlov', 'cann', 'cannam', 'cant', 'cantdo', 'canteen', 'cap', 'capac', 'capit', 'cappuccino', 'captain', 'car', 'card', 'cardiff', 'care', 'careabout', 'career', 'careless', 'carli', 'carlin', 'carlo', 'carolin', 'carolina', 'carri', 'carryin', 'cartoon', 'case', 'cash', 'cashbin', 'cashto', 'cast', 'castor', 'casualti', 'cat', 'catch', 'caught', 'caus', 'cave', 'cbe', 'cc', 'ccna', 'cd', 'cdgt', 'ceil', 'celeb', 'celebr', 'cell', 'center', 'centr', 'cereal', 'ceri', 'certainli', 'cfca', 'ch', 'cha', 'chain', 'challeng', 'champlaxig', 'champney', 'chanc', 'chang', 'channel', 'chapel', 'chapter', 'charact', 'charg', 'chariti', 'charl', 'charm', 'chart', 'chase', 'chastiti', 'chat', 'chatlin', 'cheap', 'cheaper', 'cheat', 'chechi', 'check', 'checkbox', 'checkin', 'checkmat', 'cheek', 'cheer', 'chees', 'cheeto', 'chennai', 'cherish', 'chess', 'chest', 'chex', 'chg', 'chic', 'chick', 'chicken', 'chief', 'chik', 'chikku', 'child', 'childish', 'childporn', 'children', 'chile', 'chill', 'chillaxin', 'chillin', 'china', 'chines', 'chip', 'chit', 'chk', 'chloe', 'chocol', 'choic', 'choos', 'chop', 'chore', 'chosen', 'christ', 'christma', 'christmassi', 'chuck', 'chuckin', 'church', 'ciao', 'cine', 'cinema', 'citi', 'citizen', 'cktz', 'cla', 'claim', 'claimcod', 'clair', 'clarifi', 'clark', 'class', 'classmat', 'cld', 'clean', 'clear', 'clearer', 'clearli', 'clever', 'click', 'cliff', 'clo', 'clock', 'close', 'closebi', 'closer', 'closingd', 'cloth', 'clover', 'club', 'clubmobi', 'clubz', 'clue', 'cm', 'cme', 'cmon', 'cn', 'cncl', 'cnl', 'cnn', 'co', 'coach', 'coast', 'coat', 'coccoon', 'cochin', 'cock', 'coco', 'code', 'coffe', 'coher', 'coin', 'coincid', 'colani', 'cold', 'colin', 'collaps', 'colleagu', 'collect', 'colleg', 'color', 'colour', 'com', 'combin', 'come', 'comedi', 'comfey', 'comfort', 'comin', 'comingdown', 'command', 'commerci', 'common', 'commun', 'comp', 'compani', 'compar', 'compens', 'competit', 'complac', 'complain', 'complaint', 'complet', 'compliment', 'complimentari', 'compromis', 'comput', 'comuk', 'conact', 'concentr', 'concern', 'concert', 'condit', 'conduct', 'confid', 'confirm', 'confirmd', 'conform', 'confus', 'congrat', 'congratul', 'connect', 'consensu', 'consent', 'conserv', 'consid', 'consol', 'constant', 'constantli', 'contact', 'contain', 'content', 'contin', 'continu', 'contract', 'contribut', 'control', 'convers', 'convert', 'convey', 'convinc', 'cook', 'cooki', 'cool', 'cooper', 'cop', 'cope', 'copi', 'cornwal', 'correct', 'correctli', 'cost', 'costa', 'costum', 'couch', 'cough', 'could', 'coulda', 'count', 'countin', 'countinlot', 'countri', 'coupl', 'courag', 'cours', 'court', 'cousin', 'cover', 'coz', 'cp', 'cr', 'crab', 'crack', 'craigslist', 'cram', 'cramp', 'crap', 'crash', 'crave', 'crazi', 'craziest', 'cream', 'creat', 'creativ', 'credit', 'creep', 'creepi', 'cri', 'cribb', 'cricket', 'crisi', 'cro', 'crore', 'cross', 'crowd', 'croydon', 'cruel', 'cruis', 'cruisin', 'cs', 'csbcm', 'csh', 'cst', 'ctagg', 'ctargg', 'cttargg', 'ctter', 'cttergg', 'ctxt', 'cud', 'cuddl', 'culdnt', 'cultur', 'cum', 'cup', 'cupboard', 'cuppa', 'curfew', 'curiou', 'current', 'curri', 'curtsey', 'cusoon', 'cust', 'custcar', 'custom', 'customercar', 'customersqueri', 'cut', 'cute', 'cutefrnd', 'cutest', 'cutter', 'cuz', 'cw', 'cyclist', 'da', 'dad', 'daddi', 'dai', 'daili', 'dammit', 'damn', 'dan', 'danc', 'danger', 'dare', 'dark', 'darkest', 'darl', 'darlin', 'darren', 'dat', 'date', 'datebox', 'dave', 'day', 'daytim', 'dbuk', 'de', 'dead', 'deal', 'dealer', 'dear', 'dearer', 'dearli', 'death', 'debat', 'dec', 'decad', 'decemb', 'decent', 'decid', 'decim', 'decis', 'deck', 'declar', 'decor', 'dedic', 'deep', 'deepak', 'deepest', 'deer', 'deeraj', 'def', 'defeat', 'defer', 'definit', 'definitli', 'degre', 'dehydr', 'del', 'delay', 'delet', 'delhi', 'delici', 'deliv', 'deliveredtomorrow', 'deliveri', 'deltomorrow', 'delux', 'dem', 'demand', 'den', 'dengra', 'deni', 'dental', 'dentist', 'depart', 'depend', 'deposit', 'depress', 'dept', 'derek', 'describ', 'desert', 'deserv', 'desir', 'desk', 'despar', 'desper', 'despit', 'detail', 'determin', 'detroit', 'deu', 'develop', 'devic', 'devil', 'devour', 'dey', 'dha', 'dhanush', 'dhina', 'dhoni', 'dhort', 'di', 'dial', 'diall', 'diamond', 'diaper', 'dice', 'dick', 'dict', 'dictionari', 'diddi', 'didnt', 'die', 'diesel', 'diet', 'diff', 'differ', 'difficult', 'difficulti', 'dificult', 'digit', 'digniti', 'dileep', 'dime', 'dimens', 'din', 'dine', 'dinero', 'ding', 'dinner', 'dino', 'dint', 'dip', 'dippeditinadew', 'direct', 'directli', 'director', 'dirt', 'dirti', 'dirtiest', 'disagre', 'disappoint', 'disast', 'disclos', 'disconnect', 'discount', 'discreet', 'discuss', 'diseas', 'disk', 'dislik', 'dismissi', 'display', 'distanc', 'distract', 'disturb', 'divert', 'divis', 'divorc', 'diwali', 'dizzamn', 'dizze', 'dl', 'dled', 'dload', 'dnt', 'dob', 'dobbi', 'doc', 'dock', 'doctor', 'dodda', 'dodgey', 'doesnt', 'dog', 'dogbreath', 'dogg', 'doggi', 'doggin', 'dogwood', 'doin', 'doit', 'dokey', 'doll', 'dollar', 'dom', 'domain', 'donat', 'done', 'donno', 'dont', 'dontcha', 'donyt', 'doom', 'door', 'dorm', 'dormitori', 'dorothi', 'dot', 'doubl', 'doubt', 'dough', 'download', 'downon', 'dp', 'dr', 'dracula', 'dramat', 'drastic', 'draw', 'dread', 'dream', 'dreamz', 'dress', 'dresser', 'dri', 'drink', 'drinkin', 'drive', 'driver', 'drivin', 'drm', 'drop', 'drove', 'drpd', 'drug', 'drugdeal', 'drunk', 'drunkard', 'drunken', 'dsn', 'dt', 'dual', 'dub', 'dubsack', 'duchess', 'dude', 'dudett', 'due', 'duffer', 'dull', 'dumb', 'dump', 'dun', 'dunno', 'durban', 'dusk', 'duvet', 'dvd', 'dvg', 'dx', 'dysentri', 'ea', 'ear', 'earli', 'earlier', 'earn', 'earth', 'easi', 'easier', 'easili', 'east', 'eastend', 'easter', 'eat', 'eaten', 'eatin', 'ebay', 'ec', 'ecef', 'echo', 'eckankar', 'ecstaci', 'ed', 'edg', 'edison', 'edit', 'edu', 'educ', 'edukkukaye', 'edward', 'ee', 'eek', 'eeri', 'eerulli', 'effect', 'effici', 'efreefon', 'eg', 'egg', 'eh', 'eight', 'eighth', 'eir', 'either', 'ela', 'elabor', 'elain', 'elama', 'eldest', 'elect', 'electr', 'eleph', 'eleven', 'elliot', 'ello', 'els', 'elsewher', 'em', 'email', 'embarass', 'embarrass', 'embassi', 'emerg', 'emili', 'emot', 'empti', 'en', 'enc', 'end', 'endless', 'endow', 'enemi', 'energi', 'eng', 'engag', 'engalnd', 'engin', 'england', 'english', 'enjoy', 'enjoyin', 'enna', 'ennal', 'enough', 'enter', 'entertain', 'entey', 'entir', 'entitl', 'entri', 'entrop', 'enufcredeit', 'enuff', 'envelop', 'envi', 'environ', 'epi', 'eppolum', 'epsilon', 'equal', 'er', 'ericsson', 'erm', 'erot', 'error', 'ertini', 'erupt', 'erutupalam', 'esaplanad', 'escap', 'ese', 'eshxxxxxxxxxxx', 'esp', 'especi', 'esplanad', 'essay', 'essenti', 'essexcm', 'eta', 'etc', 'etlp', 'ettan', 'euro', 'eurodisinc', 'europ', 'eva', 'eve', 'eveb', 'even', 'event', 'eventu', 'ever', 'everi', 'everybodi', 'everyday', 'everyon', 'everyth', 'everytim', 'everywher', 'evey', 'evict', 'evn', 'evng', 'evo', 'evon', 'evr', 'evrey', 'evri', 'evrydi', 'ex', 'exact', 'exactli', 'exam', 'excel', 'except', 'exchang', 'excit', 'excus', 'exe', 'execut', 'exet', 'exhaust', 'exist', 'exmpel', 'exorc', 'exorcist', 'expect', 'expens', 'experi', 'experiencehttp', 'expir', 'explain', 'explicit', 'explos', 'expos', 'express', 'expressoff', 'extra', 'extract', 'ey', 'eye', 'ez', 'fa', 'fab', 'faber', 'face', 'facebook', 'facil', 'fact', 'factori', 'faggi', 'faglord', 'fail', 'failur', 'faint', 'fair', 'faith', 'fake', 'fakey', 'fal', 'fall', 'fallen', 'famili', 'familiar', 'fan', 'fanci', 'fantasi', 'fantast', 'far', 'farm', 'farrel', 'fart', 'fassyol', 'fast', 'faster', 'fastest', 'fat', 'father', 'fathima', 'fatti', 'fault', 'fav', 'fave', 'favor', 'favorit', 'favour', 'favourit', 'fb', 'fear', 'featur', 'feb', 'februari', 'fedex', 'fee', 'feed', 'feel', 'feelin', 'feellikw', 'feet', 'fell', 'fellow', 'felt', 'femal', 'feng', 'fetch', 'fever', 'ff', 'fffff', 'ffffffffff', 'ffffuuuuuuu', 'fgkslpo', 'fgkslpopw', 'fidalf', 'field', 'fieldof', 'fiend', 'fifteen', 'fight', 'fightng', 'figur', 'fil', 'file', 'fill', 'film', 'filth', 'filthi', 'final', 'financ', 'find', 'fine', 'finger', 'finish', 'finishd', 'fink', 'finn', 'fire', 'firmwar', 'firsg', 'first', 'fish', 'fishrman', 'fit', 'fite', 'five', 'fix', 'fixd', 'fixedlin', 'fizz', 'fl', 'flag', 'flake', 'flaki', 'flame', 'flash', 'flat', 'flatter', 'flavour', 'flea', 'flew', 'fli', 'flight', 'flip', 'flirt', 'float', 'flood', 'floor', 'floppi', 'florida', 'flow', 'flower', 'flurri', 'flyng', 'fm', 'fml', 'fne', 'fo', 'fold', 'foley', 'folk', 'follow', 'fondli', 'fone', 'food', 'fool', 'foot', 'footbal', 'footi', 'footprint', 'forc', 'foreg', 'foreign', 'forev', 'forevr', 'forget', 'forgiv', 'forgiven', 'forgot', 'forgotten', 'forgt', 'form', 'formal', 'format', 'forth', 'fortun', 'forum', 'forward', 'found', 'four', 'fourth', 'foward', 'fowler', 'fr', 'fraction', 'fran', 'frank', 'franki', 'franxx', 'fraud', 'freak', 'free', 'freedom', 'freeentri', 'freefon', 'freemsg', 'freephon', 'freez', 'fren', 'frequent', 'fret', 'fri', 'friday', 'fridg', 'friend', 'friendsar', 'friendship', 'fring', 'frm', 'frnd', 'frndship', 'frndshp', 'fro', 'frog', 'fromm', 'front', 'frontiervil', 'fuck', 'fuckin', 'fuckinnic', 'fudg', 'fujitsu', 'ful', 'fulfil', 'full', 'fullonsm', 'fumbl', 'fun', 'function', 'fund', 'fundament', 'funer', 'funk', 'funki', 'funni', 'furnitur', 'futur', 'fuuuuck', 'fwd', 'fyi', 'ga', 'gail', 'gailxx', 'gain', 'gal', 'galileo', 'gam', 'gamb', 'game', 'gamestar', 'gandhipuram', 'ganesh', 'gang', 'gap', 'garag', 'garbag', 'garden', 'gari', 'garment', 'gastroenter', 'gate', 'gautham', 'gauti', 'gave', 'gay', 'gaytextbuddi', 'gb', 'gbp', 'gd', 'ge', 'gee', 'geeee', 'geeeee', 'gei', 'gek', 'gender', 'gene', 'gener', 'geniu', 'gent', 'gentl', 'gentleman', 'gentli', 'genu', 'genuin', 'geoenvironment', 'georg', 'ger', 'germani', 'get', 'gete', 'geti', 'getsleep', 'getstop', 'gettin', 'getz', 'geva', 'gf', 'ghodbandar', 'ghost', 'gibb', 'gibe', 'gift', 'gigolo', 'gim', 'gimmi', 'gin', 'girl', 'girlfrnd', 'gist', 'giv', 'give', 'given', 'glad', 'gland', 'glo', 'gloucesterroad', 'gm', 'gn', 'gnarl', 'go', 'goal', 'god', 'goe', 'goigng', 'goin', 'gokila', 'gold', 'golddigg', 'goldvik', 'golf', 'gon', 'gona', 'gone', 'gong', 'gonnamissu', 'good', 'goodeven', 'goodfriend', 'goodmorn', 'goodnight', 'goodnit', 'goodnoon', 'goodo', 'googl', 'gorgeou', 'goss', 'gossip', 'got', 'gota', 'gotmarri', 'goto', 'gotten', 'gover', 'govt', 'gower', 'gpr', 'gpu', 'gr', 'grace', 'graduat', 'grahmbel', 'gram', 'gran', 'grand', 'grandfath', 'grandma', 'granit', 'grant', 'graphic', 'grasp', 'grate', 'grave', 'gravel', 'gravi', 'graviti', 'graze', 'gre', 'great', 'greatest', 'greatli', 'greec', 'green', 'greet', 'grin', 'grinul', 'grl', 'grocer', 'groov', 'groovi', 'ground', 'group', 'grow', 'grownup', 'grr', 'grumbl', 'grumpi', 'gsex', 'gsoh', 'gt', 'gthr', 'gua', 'guai', 'guarante', 'gucci', 'gud', 'gudnit', 'gudnyt', 'guess', 'guid', 'guidanc', 'guilti', 'gumbi', 'guoyang', 'gurl', 'gut', 'guy', 'gv', 'gving', 'gym', 'gyna', 'gyno', 'ha', 'habba', 'habit', 'hack', 'haf', 'haha', 'hahaha', 'hai', 'hail', 'hair', 'haircut', 'hairdress', 'haiyoh', 'haiz', 'half', 'hallaq', 'halloween', 'ham', 'hamster', 'hand', 'handl', 'handset', 'handsom', 'hang', 'hannaford', 'hanuman', 'hanumanji', 'happen', 'happend', 'happi', 'happier', 'happiest', 'happili', 'hard', 'hardcor', 'harder', 'hardli', 'hari', 'harlem', 'harri', 'hasbro', 'hassl', 'hat', 'hate', 'haughaighgtujhyguj', 'haunt', 'hav', 'hava', 'havent', 'haventcn', 'havin', 'havn', 'havnt', 'hb', 'hdd', 'he', 'head', 'headach', 'headin', 'headset', 'healthi', 'heap', 'hear', 'heard', 'hearin', 'heart', 'heat', 'heater', 'heaven', 'heavi', 'heavili', 'hectic', 'hee', 'heehe', 'height', 'held', 'helen', 'hell', 'hella', 'hello', 'hellogorg', 'helloooo', 'help', 'helplin', 'heltini', 'henc', 'henri', 'hep', 'hero', 'hesit', 'hex', 'hey', 'hf', 'hg', 'hi', 'hidden', 'hide', 'high', 'highest', 'hill', 'hint', 'hip', 'hiphop', 'hire', 'histori', 'hit', 'hitler', 'hitman', 'hiya', 'hl', 'hlday', 'hlp', 'hm', 'hmm', 'hmmm', 'hmmmm', 'hmmross', 'hmph', 'hmv', 'ho', 'hockey', 'hogli', 'hogolo', 'hol', 'holbi', 'hold', 'holder', 'hole', 'holi', 'holiday', 'holla', 'hollalat', 'home', 'homeown', 'hon', 'honest', 'honey', 'honeybe', 'honi', 'hont', 'hoo', 'hooch', 'hoodi', 'hook', 'hoop', 'hop', 'hope', 'hopeu', 'hor', 'horni', 'horo', 'horribl', 'hospit', 'hostel', 'hostil', 'hot', 'hotel', 'hotmail', 'hotmix', 'hottest', 'hour', 'hous', 'housew', 'housework', 'how', 'howard', 'howda', 'howev', 'howz', 'hp', 'hppnss', 'hr', 'hrishi', 'hsbc', 'html', 'http', 'hu', 'hubbi', 'hudgi', 'hug', 'huge', 'hugh', 'huh', 'hui', 'human', 'hun', 'hundr', 'hungri', 'hunni', 'hunt', 'hurri', 'hurrican', 'hurt', 'husband', 'hussey', 'hustl', 'hut', 'hv', 'hw', 'hyde', 'hypotheticalhuagauahahuagahyuhagga', 'ia', 'iam', 'ibh', 'ibhltd', 'ibiza', 'ibn', 'ibor', 'ic', 'ice', 'icicibank', 'icmb', 'id', 'idc', 'idea', 'ideal', 'identif', 'identifi', 'idew', 'idiot', 'idk', 'idu', 'ie', 'ig', 'ignor', 'ijust', 'ikea', 'iknow', 'il', 'ileav', 'ill', 'im', 'imag', 'imagin', 'imat', 'img', 'imma', 'immedi', 'immunis', 'imp', 'impati', 'imped', 'implic', 'import', 'impos', 'imposs', 'impress', 'improv', 'in', 'inc', 'inch', 'incid', 'inclu', 'includ', 'inclus', 'inconsider', 'inconveni', 'incorrect', 'increas', 'incred', 'increment', 'ind', 'inde', 'independ', 'index', 'india', 'indian', 'indic', 'individu', 'indyarock', 'infact', 'infect', 'infern', 'influx', 'info', 'inform', 'infront', 'ing', 'inlud', 'inmind', 'inner', 'inning', 'innoc', 'inperson', 'inr', 'insha', 'inshah', 'insid', 'inspect', 'inst', 'instal', 'instantli', 'instead', 'instituit', 'instruct', 'insur', 'intellig', 'intend', 'intent', 'interest', 'interflora', 'interfu', 'intern', 'internet', 'interview', 'intro', 'invad', 'invent', 'invest', 'invit', 'invnt', 'involv', 'iouri', 'ip', 'ipad', 'ipod', 'iq', 'iraq', 'iriv', 'iron', 'irrit', 'irulina', 'iscom', 'ish', 'island', 'isnt', 'issu', 'italian', 'itcould', 'item', 'itri', 'itwhichturnedinto', 'itxt', 'itz', 'ivatt', 'ive', 'iwa', 'iwana', 'iyo', 'iz', 'izzit', 'ja', 'jabo', 'jack', 'jacket', 'jackpot', 'jacuzzi', 'jada', 'jade', 'jam', 'jame', 'jamster', 'jan', 'janarig', 'jane', 'janinexx', 'januari', 'japanes', 'jason', 'java', 'jay', 'jaya', 'jaz', 'jazz', 'jb', 'jd', 'je', 'jealou', 'jean', 'jeevithathil', 'jen', 'jenni', 'jerk', 'jerri', 'jersey', 'jess', 'jesu', 'jetton', 'jewelri', 'jhl', 'ji', 'jia', 'jiayin', 'jiu', 'jo', 'joanna', 'job', 'jock', 'jog', 'john', 'join', 'joke', 'joker', 'jokin', 'jolli', 'jolt', 'jon', 'jontin', 'jordan', 'jot', 'journey', 'joy', 'js', 'jsco', 'jst', 'jstfrnd', 'jsut', 'ju', 'juan', 'judgement', 'juici', 'jul', 'juli', 'juliana', 'julianaland', 'jump', 'jumper', 'june', 'junna', 'jurong', 'justfound', 'justifi', 'juswok', 'juz', 'jx', 'jy', 'kadeem', 'kaiez', 'kaila', 'kalaachutaarama', 'kalisidar', 'kalli', 'kane', 'kano', 'kappa', 'karaok', 'karnan', 'kate', 'katexxx', 'kath', 'kavalan', 'kay', 'kaypoh', 'kb', 'ke', 'keep', 'kegger', 'keluviri', 'ken', 'kent', 'kept', 'kerala', 'keralacircl', 'kettoda', 'key', 'keypad', 'kfc', 'kg', 'khelat', 'kick', 'kickoff', 'kid', 'kidz', 'kiefer', 'kill', 'kilo', 'kind', 'kinda', 'kindli', 'king', 'kingdom', 'kintu', 'kiosk', 'kip', 'kiss', 'kit', 'kitti', 'kittum', 'kl', 'knacker', 'knee', 'knew', 'knicker', 'knock', 'know', 'known', 'knw', 'kodstini', 'kodthini', 'konw', 'kote', 'kothi', 'kr', 'kudi', 'kusruthi', 'kvb', 'kz', 'la', 'lab', 'lac', 'laden', 'ladi', 'lag', 'lage', 'lager', 'laid', 'lambda', 'lambu', 'lamp', 'lancast', 'land', 'landlin', 'landlineonli', 'landmark', 'lane', 'langport', 'languag', 'lanka', 'lanr', 'laptop', 'lar', 'lara', 'lareadi', 'largest', 'lasagna', 'last', 'lastest', 'late', 'latelyxxx', 'later', 'latest', 'latr', 'laugh', 'laundri', 'lauri', 'lautech', 'lavend', 'law', 'laxinorf', 'lay', 'lazi', 'lb', 'lccltd', 'ld', 'ldew', 'ldn', 'ldnw', 'le', 'lead', 'leaf', 'leagu', 'learn', 'least', 'leav', 'lect', 'lectur', 'left', 'leftov', 'leg', 'legal', 'legitimat', 'leh', 'lei', 'lem', 'lemon', 'length', 'leona', 'less', 'lesser', 'lesson', 'let', 'letter', 'level', 'lf', 'li', 'liao', 'lib', 'libertin', 'librari', 'lick', 'lido', 'lie', 'life', 'lifebook', 'lifetim', 'lifpartnr', 'lift', 'light', 'lighter', 'lightli', 'lik', 'like', 'likeyour', 'lil', 'lili', 'lim', 'limit', 'limp', 'line', 'linear', 'linerent', 'lingeri', 'link', 'lion', 'lionm', 'lionp', 'lip', 'list', 'listen', 'lit', 'liter', 'litr', 'littl', 'live', 'liver', 'liverpool', 'lk', 'lkpobox', 'lmao', 'lo', 'load', 'loan', 'lobbi', 'local', 'locat', 'locaxx', 'lock', 'lodg', 'log', 'login', 'logo', 'logoff', 'logon', 'lol', 'londn', 'london', 'lone', 'loneli', 'long', 'longer', 'lonlin', 'loo', 'look', 'lookatm', 'lookin', 'loooooool', 'looovvv', 'loos', 'loosu', 'lor', 'lose', 'loss', 'lost', 'lot', 'lotr', 'lotta', 'lotto', 'lotz', 'lou', 'loud', 'loung', 'lousi', 'lov', 'lovabl', 'love', 'lovejen', 'lovem', 'lover', 'loverboy', 'lovingli', 'lovli', 'low', 'lower', 'loxahatche', 'loyal', 'loyalti', 'lp', 'ls', 'lst', 'lt', 'ltd', 'ltdhelpdesk', 'lttr', 'lubli', 'luci', 'luck', 'lucki', 'lucozad', 'lucyxx', 'lunch', 'lunsford', 'lush', 'luton', 'luv', 'luvd', 'lux', 'luxuri', 'lv', 'lvblefrnd', 'lyf', 'lyfu', 'lyk', 'lyric', 'lyricalladi', 'ma', 'maangalyam', 'maat', 'mac', 'macedonia', 'machan', 'macho', 'mack', 'macleran', 'mad', 'madam', 'made', 'madok', 'madstini', 'madurai', 'mag', 'maga', 'magazin', 'magic', 'magicalsong', 'mah', 'mahal', 'mahav', 'mahfuuz', 'maid', 'mail', 'mailbox', 'main', 'maintain', 'major', 'make', 'makin', 'malaria', 'malarki', 'male', 'mall', 'mallika', 'man', 'manag', 'manchest', 'manda', 'mandan', 'mandara', 'mandi', 'maneesha', 'mango', 'mani', 'manki', 'map', 'mapquest', 'marandratha', 'march', 'maretar', 'margaret', 'margin', 'marin', 'mark', 'market', 'marley', 'marrg', 'marri', 'marriag', 'marrow', 'maruti', 'marvel', 'mask', 'massag', 'massiv', 'master', 'masteriast', 'match', 'mate', 'math', 'mathemat', 'mathew', 'matra', 'matric', 'matrix', 'matter', 'matthew', 'matur', 'max', 'maxim', 'maximum', 'may', 'mayb', 'mb', 'mca', 'mcat', 'meal', 'mean', 'meaning', 'meant', 'meanwhil', 'measur', 'meatbal', 'mecaus', 'med', 'medic', 'medicin', 'meet', 'meetin', 'meg', 'mega', 'meh', 'mei', 'mel', 'mell', 'melt', 'member', 'membership', 'memor', 'memori', 'men', 'mental', 'mention', 'mentor', 'menu', 'meow', 'mere', 'merememberin', 'merri', 'mesag', 'mess', 'messag', 'messeng', 'messi', 'met', 'method', 'mfl', 'mg', 'mi', 'mia', 'michael', 'mid', 'middl', 'midnight', 'might', 'mike', 'mila', 'mile', 'mileag', 'milk', 'million', 'min', 'mina', 'mind', 'mine', 'minecraft', 'mini', 'minimum', 'minmobsmor', 'minmobsmorelkpobox', 'minmoremobsemspobox', 'minnaminungint', 'minor', 'minut', 'miracl', 'misbehav', 'mise', 'miser', 'misfit', 'miss', 'missin', 'missionari', 'missunderstd', 'mist', 'mistak', 'misundrstud', 'mite', 'mitsak', 'miwa', 'mix', 'mj', 'mjzgroup', 'mk', 'ml', 'mm', 'mmm', 'mmmm', 'mmmmm', 'mmmmmm', 'mmmmmmm', 'mn', 'mnth', 'mo', 'moan', 'mob', 'mobcudb', 'mobi', 'mobil', 'mobilesdirect', 'mobilesvari', 'mobileupd', 'mobno', 'mobsi', 'mobstorequiz', 'mobypobox', 'mode', 'model', 'modul', 'moji', 'mojibiola', 'mokka', 'mom', 'moment', 'mon', 'monday', 'mone', 'money', 'monkey', 'mono', 'monster', 'month', 'monthli', 'mood', 'moon', 'moral', 'morefrmmob', 'morn', 'mornin', 'moro', 'morow', 'morphin', 'morro', 'morrow', 'morrowxxxx', 'mostli', 'mother', 'motherfuck', 'motiv', 'motor', 'motorola', 'mountain', 'mous', 'mouth', 'move', 'movi', 'movietrivia', 'mp', 'mph', 'mquiz', 'mr', 'mre', 'mrng', 'mro', 'mrt', 'mrw', 'ms', 'msg', 'msging', 'msgrcvd', 'msgrcvdhg', 'msn', 'mt', 'mtalk', 'mth', 'mtmsg', 'mtmsgrcvd', 'mtnl', 'mu', 'muah', 'much', 'muchand', 'muchxxlov', 'mudyadhu', 'mufti', 'muhommad', 'muht', 'multi', 'multimedia', 'multipli', 'mum', 'mumbai', 'mumha', 'mummi', 'mumtaz', 'munster', 'murali', 'murder', 'mushi', 'music', 'must', 'musta', 'musthu', 'mustprovid', 'mutai', 'muz', 'mw', 'mwah', 'mylif', 'mymobi', 'mypar', 'myspac', 'mysteri', 'na', 'nacho', 'nag', 'nagar', 'nah', 'nahi', 'nail', 'nake', 'nalla', 'nalli', 'name', 'nan', 'nanni', 'nap', 'narcot', 'nasdaq', 'nasti', 'nat', 'natali', 'natalja', 'nation', 'nationwid', 'nattil', 'natur', 'naughti', 'nauseou', 'navig', 'nb', 'nbme', 'nd', 'ne', 'near', 'nearli', 'neces', 'necessari', 'necessarili', 'neck', 'necklac', 'ned', 'need', 'neekunna', 'neft', 'neg', 'neglet', 'neighbor', 'neighbour', 'neither', 'neo', 'nervou', 'net', 'netcollex', 'neth', 'netun', 'netvis', 'network', 'neva', 'never', 'nevr', 'new', 'neway', 'newest', 'newport', 'newquay', 'news', 'next', 'nh', 'ni', 'nic', 'nice', 'nichol', 'nickey', 'nicki', 'nigeria', 'nigh', 'night', 'nighter', 'nightnight', 'nigpun', 'nikiyu', 'nimbomson', 'nimya', 'nipost', 'nit', 'nite', 'nitro', 'nitw', 'njan', 'nmde', 'no', 'nob', 'nobodi', 'noe', 'noi', 'noic', 'nois', 'nok', 'nokia', 'nolin', 'none', 'nonetheless', 'nookii', 'noon', 'nooooooo', 'noooooooo', 'nope', 'norcorp', 'norm', 'normal', 'north', 'northampton', 'nose', 'note', 'noth', 'nothin', 'notic', 'notif', 'notixiqu', 'nottingham', 'notxt', 'noun', 'novemb', 'nowaday', 'noworriesloan', 'nr', 'nri', 'nt', 'ntt', 'ntwk', 'nu', 'num', 'number', 'nurseri', 'nurungu', 'nusstu', 'nuther', 'nutter', 'nver', 'nvm', 'nw', 'nxt', 'ny', 'nyc', 'nydc', 'nyt', 'obey', 'object', 'oblising', 'oblivi', 'obvious', 'occas', 'occupi', 'occur', 'odalebeku', 'odi', 'ofcours', 'offens', 'offer', 'offic', 'offici', 'ofic', 'ofsi', 'often', 'oga', 'ogunrind', 'oh', 'oi', 'oic', 'oil', 'oja', 'ok', 'okay', 'okday', 'okden', 'okey', 'oki', 'okor', 'ola', 'olag', 'olav', 'olayiwola', 'old', 'ollu', 'omg', 'omw', 'onbu', 'oncal', 'ondu', 'one', 'oni', 'onion', 'onlin', 'onlyfound', 'onto', 'onward', 'onword', 'oooh', 'ooooooh', 'oop', 'open', 'openin', 'oper', 'opinion', 'opp', 'opponent', 'opportun', 'oppos', 'opposit', 'opt', 'optic', 'option', 'optout', 'or', 'orang', 'orc', 'orchard', 'order', 'ore', 'oredi', 'oreo', 'org', 'orh', 'orig', 'origin', 'orno', 'ortxt', 'oru', 'os', 'oso', 'otbox', 'other', 'otherwis', 'othr', 'othrwis', 'otsid', 'ou', 'ouch', 'ourback', 'out', 'outag', 'outbid', 'outdoor', 'outfor', 'outreach', 'outsid', 'outstand', 'outta', 'overdid', 'overdos', 'overemphasis', 'overh', 'overtim', 'ovul', 'ow', 'owe', 'own', 'owo', 'oxygen', 'oyster', 'oz', 'pa', 'pack', 'packag', 'page', 'pai', 'paid', 'pain', 'paint', 'pair', 'pale', 'pan', 'panalam', 'pandi', 'panic', 'panren', 'pant', 'panther', 'panti', 'pap', 'paper', 'paperwork', 'parachut', 'parad', 'paragon', 'parantella', 'parco', 'parent', 'pari', 'parish', 'park', 'parkin', 'part', 'parti', 'partner', 'partnership', 'paru', 'pass', 'passion', 'passport', 'password', 'past', 'pataistha', 'patent', 'path', 'patient', 'patrick', 'pattern', 'patti', 'paul', 'paus', 'pavanaputra', 'pay', 'paye', 'payment', 'payoh', 'paypal', 'pc', 'pe', 'peac', 'peach', 'peak', 'pee', 'pei', 'pen', 'penc', 'pend', 'pendent', 'peni', 'penni', 'peopl', 'per', 'percent', 'percentag', 'perf', 'perfect', 'perform', 'perfum', 'perhap', 'peril', 'period', 'peripher', 'permiss', 'persev', 'persian', 'persolvo', 'person', 'perspect', 'pert', 'perumbavoor', 'perweeksub', 'perwksub', 'peski', 'pete', 'petey', 'petrol', 'petticoatdream', 'pg', 'ph', 'pharmaci', 'phase', 'phew', 'philosoph', 'philosophi', 'phne', 'phoenix', 'phone', 'phonebook', 'phoni', 'photo', 'photoshop', 'php', 'phrase', 'physic', 'pic', 'pick', 'pickl', 'picsfre', 'pictur', 'pie', 'piec', 'pig', 'pilat', 'pillow', 'pimpl', 'pin', 'pink', 'pint', 'pisc', 'piss', 'pist', 'pix', 'pixel', 'pizza', 'pl', 'place', 'placement', 'plan', 'plane', 'planet', 'planettalkinst', 'plate', 'platt', 'play', 'player', 'playin', 'plaza', 'pleas', 'pleassssssseeeee', 'pleasur', 'plenti', 'plm', 'plu', 'plum', 'plumber', 'plural', 'plyr', 'plz', 'pm', 'pmmorefrommobil', 'pmt', 'po', 'pobox', 'poboxox', 'pocay', 'pock', 'pocket', 'pocketbab', 'pod', 'poem', 'point', 'poke', 'poker', 'pole', 'poli', 'polic', 'politician', 'polo', 'polyh', 'polyph', 'polyphon', 'pongal', 'poo', 'pooki', 'pool', 'poop', 'poor', 'poorli', 'poortiyagi', 'pop', 'popcorn', 'porn', 'port', 'porteg', 'posh', 'posit', 'possess', 'possibl', 'post', 'postcard', 'postcod', 'postpon', 'potato', 'potenti', 'potter', 'pouch', 'pound', 'pour', 'pout', 'power', 'pp', 'ppermesssubscript', 'ppl', 'pple', 'ppm', 'ppmmobilesvari', 'ppmpobox', 'ppmx', 'ppt', 'prabha', 'practic', 'practis', 'prakasam', 'prakasamanu', 'prap', 'prasanth', 'praveesh', 'pray', 'prayr', 'pre', 'predict', 'prefer', 'prem', 'premier', 'premium', 'prepaid', 'prepar', 'prepay', 'prepon', 'prescrib', 'prescript', 'present', 'presid', 'presnt', 'press', 'pretend', 'pretti', 'preview', 'previou', 'previous', 'prey', 'price', 'pride', 'prin', 'princ', 'princess', 'print', 'priscilla', 'privaci', 'privat', 'priya', 'prize', 'prizeawait', 'pro', 'prob', 'probabl', 'problem', 'problm', 'problum', 'probthat', 'process', 'prod', 'prof', 'professor', 'profil', 'profit', 'program', 'project', 'prolli', 'prometazin', 'promin', 'promis', 'promo', 'promot', 'prompt', 'proof', 'proper', 'properli', 'properti', 'propos', 'propsd', 'prospect', 'protect', 'proverb', 'provid', 'proze', 'prsn', 'ps', 'pshew', 'psp', 'pt', 'ptbo', 'pub', 'public', 'pull', 'punish', 'punto', 'puppi', 'purchas', 'pure', 'puriti', 'purpl', 'purpos', 'purs', 'push', 'pushbutton', 'pussi', 'put', 'puttin', 'puzzl', 'pw', 'px', 'qatar', 'qbank', 'qet', 'qi', 'qjkgighjjgcbl', 'qp', 'qu', 'qualiti', 'quarter', 'que', 'queen', 'queri', 'question', 'quick', 'quickli', 'quiet', 'quit', 'quiteamuz', 'quiz', 'quot', 'qxj', 'ra', 'racal', 'race', 'radiat', 'radio', 'rael', 'raglan', 'rahul', 'railway', 'rain', 'rais', 'raj', 'raja', 'raji', 'rajitha', 'rakhesh', 'raksha', 'ralli', 'ramaduth', 'ramen', 'ran', 'randi', 'random', 'randomli', 'randomlli', 'rang', 'ranjith', 'ranju', 'rape', 'rat', 'rate', 'rather', 'ratio', 'raviyog', 'ray', 'rayan', 'rayman', 'rct', 'rcv', 'rcvd', 'rd', 'rdi', 'reach', 'reaction', 'read', 'reader', 'readi', 'real', 'reali', 'realis', 'realiti', 'realiz', 'realli', 'reappli', 'rearrang', 'reason', 'reassur', 'rebel', 'reboot', 'rec', 'recd', 'receipt', 'receiv', 'receivea', 'recent', 'recept', 'recess', 'recharg', 'reckon', 'recognis', 'record', 'recount', 'recoveri', 'recpt', 'recreat', 'recycl', 'red', 'redeem', 'reduc', 'ree', 'ref', 'refer', 'referin', 'reffer', 'refil', 'reflect', 'reformat', 'refund', 'refus', 'reg', 'regard', 'regist', 'regret', 'regular', 'rel', 'relat', 'relationship', 'relax', 'releas', 'religi', 'reloc', 'rem', 'remain', 'remb', 'rememb', 'remembr', 'remind', 'remov', 'rencontr', 'renew', 'rent', 'rental', 'rentl', 'repair', 'repeat', 'replac', 'repli', 'report', 'repres', 'request', 'requir', 'research', 'resend', 'resent', 'reserv', 'resiz', 'reslov', 'resolut', 'resolv', 'resort', 'respect', 'responc', 'respond', 'respons', 'rest', 'restaur', 'restock', 'restrict', 'resub', 'result', 'resum', 'retriev', 'return', 'reveal', 'revers', 'review', 'revis', 'reward', 'rg', 'rgd', 'rgent', 'rhode', 'rhythm', 'rice', 'rich', 'riddanc', 'ride', 'right', 'rightli', 'ring', 'rington', 'ringtonek', 'rip', 'risk', 'rite', 'ritten', 'river', 'road', 'roast', 'rob', 'robinson', 'rock', 'rodd', 'rodger', 'rofl', 'roger', 'role', 'roller', 'romant', 'ron', 'room', 'roomat', 'roommat', 'rose', 'round', 'rounder', 'rout', 'row', 'royal', 'rpl', 'rpli', 'rr', 'rs', 'rstm', 'rtf', 'rtm', 'rto', 'ru', 'rub', 'rubber', 'rude', 'ruin', 'rule', 'rum', 'rumbl', 'rumour', 'run', 'rupaul', 'rush', 'rw', 'ryan', 'sabarish', 'sac', 'sachin', 'sack', 'sacrific', 'sad', 'sae', 'saeed', 'safe', 'sagamu', 'saibaba', 'said', 'sake', 'salad', 'salam', 'salari', 'sale', 'salmon', 'salon', 'salt', 'sam', 'samachara', 'samu', 'sandiago', 'sane', 'sankatmochan', 'santa', 'santacal', 'sao', 'sar', 'sarasota', 'sarcasm', 'sarcast', 'sari', 'saristar', 'sariyag', 'sashimi', 'sat', 'sathi', 'sathya', 'satisfi', 'satsgettin', 'saturday', 'sauci', 'savamob', 'save', 'saw', 'say', 'sc', 'scalli', 'scare', 'scari', 'scenario', 'sceneri', 'sch', 'schedul', 'school', 'scienc', 'scold', 'scool', 'score', 'scotch', 'scotland', 'scotsman', 'scous', 'scrape', 'scratch', 'scream', 'screen', 'screwd', 'scroung', 'sday', 'se', 'sea', 'search', 'season', 'seat', 'sec', 'second', 'secondari', 'secret', 'secretari', 'secretli', 'section', 'secur', 'sed', 'see', 'seed', 'seek', 'seeker', 'seem', 'seen', 'seh', 'sehwag', 'select', 'self', 'selfindepend', 'selfish', 'sell', 'sem', 'semest', 'semiobscur', 'sen', 'send', 'sender', 'sens', 'sensit', 'sent', 'sentenc', 'senthil', 'seper', 'sept', 'septemb', 'serena', 'seri', 'seriou', 'serious', 'serv', 'server', 'servic', 'set', 'settl', 'seven', 'sever', 'sex', 'sexi', 'sexiest', 'sexychat', 'sez', 'sh', 'sha', 'shadow', 'shag', 'shah', 'shahjahan', 'shake', 'shakespear', 'shall', 'shame', 'shampain', 'shangela', 'shanil', 'share', 'shave', 'shb', 'shd', 'sheet', 'sheffield', 'shelf', 'sherawat', 'shesil', 'shi', 'shija', 'shijutta', 'shinco', 'shindig', 'shine', 'ship', 'shirt', 'shit', 'shite', 'shitload', 'shld', 'shldxxxx', 'shock', 'shoe', 'shola', 'shoot', 'shop', 'shoppin', 'shore', 'short', 'shortag', 'shortbreak', 'shortcod', 'shorter', 'shortli', 'shot', 'shoulder', 'shout', 'shove', 'show', 'shower', 'showr', 'shracomorsglsuplt', 'shrek', 'shrub', 'shsex', 'shu', 'shud', 'shuhui', 'shut', 'si', 'sian', 'sib', 'sic', 'sick', 'side', 'sigh', 'sight', 'sign', 'signific', 'signin', 'siguviri', 'silenc', 'silent', 'silver', 'sim', 'simonwatson', 'simpl', 'simpler', 'simpli', 'simpson', 'simul', 'sinc', 'sinco', 'sindu', 'sing', 'singapor', 'singl', 'sip', 'sipix', 'sir', 'sister', 'sit', 'site', 'sitll', 'situat', 'siva', 'six', 'size', 'sk', 'skateboard', 'skilgm', 'skillgam', 'skin', 'skinni', 'skint', 'skip', 'sky', 'skye', 'skype', 'skyve', 'slack', 'slap', 'slave', 'sleep', 'sleepi', 'sleepin', 'sleepwel', 'slept', 'slice', 'slide', 'slightli', 'slip', 'slipper', 'slo', 'slot', 'slove', 'slow', 'slowli', 'slp', 'slurp', 'sm', 'smack', 'small', 'smaller', 'smart', 'smartcal', 'smarter', 'smash', 'smell', 'smeon', 'smile', 'smiley', 'smith', 'smoke', 'smokin', 'smsco', 'smsing', 'smsreward', 'smth', 'sn', 'snake', 'snappi', 'snd', 'sneham', 'snog', 'snot', 'snow', 'snowbal', 'snowboard', 'snowman', 'snuggl', 'so', 'soc', 'social', 'sofa', 'soft', 'softwar', 'soil', 'soire', 'sol', 'soladha', 'sold', 'solihul', 'solv', 'somebodi', 'someday', 'someon', 'someonon', 'somerset', 'sometext', 'someth', 'somethin', 'sometim', 'sometm', 'somewhat', 'somewher', 'somon', 'somtim', 'sonathaya', 'song', 'soni', 'sonyericsson', 'soo', 'soon', 'sooner', 'soooo', 'sooooo', 'sopha', 'sore', 'sori', 'sorri', 'sorrow', 'sort', 'sorta', 'soryda', 'soul', 'sound', 'soup', 'sourc', 'south', 'southern', 'soz', 'sozi', 'sp', 'space', 'spacebuck', 'spageddi', 'spain', 'spam', 'spanish', 'spare', 'sparkl', 'speak', 'special', 'specialis', 'specif', 'specifi', 'speechless', 'speed', 'speedchat', 'spell', 'spend', 'spent', 'sphost', 'spice', 'spider', 'spif', 'spile', 'spin', 'spinout', 'spiral', 'spiritu', 'spjanuari', 'spk', 'spl', 'splash', 'splat', 'split', 'splle', 'spoil', 'spoilt', 'spoke', 'spoken', 'spontan', 'spook', 'spoon', 'sporad', 'sport', 'sportsx', 'spot', 'spotti', 'spous', 'spree', 'spring', 'sprint', 'sptv', 'spun', 'squat', 'squeeeeez', 'squeez', 'squishi', 'sri', 'srt', 'ss', 'st', 'stabil', 'stabl', 'staff', 'stage', 'stair', 'stalk', 'stamp', 'stand', 'standard', 'star', 'stare', 'starer', 'starv', 'starwar', 'stash', 'statement', 'station', 'statu', 'stay', 'stayin', 'std', 'steal', 'steam', 'steed', 'steer', 'step', 'stereo', 'stereophon', 'sterm', 'steve', 'steyn', 'stick', 'sticki', 'stil', 'still', 'stink', 'stitch', 'stock', 'stockport', 'stolen', 'stomach', 'stomp', 'stone', 'stool', 'stop', 'stopc', 'stopsm', 'stoptxt', 'store', 'stori', 'storm', 'str', 'straight', 'strang', 'stranger', 'street', 'stress', 'stressful', 'stretch', 'strewn', 'strict', 'strike', 'string', 'strip', 'stroke', 'strong', 'strt', 'strtd', 'stu', 'stubborn', 'stuck', 'studdi', 'student', 'studentfinanci', 'studi', 'stuf', 'stuff', 'stun', 'stupid', 'style', 'stylish', 'sub', 'subject', 'sublet', 'submit', 'subpoli', 'subscrib', 'subscript', 'subscriptn', 'subsequ', 'subtoitl', 'success', 'suck', 'sucker', 'sudden', 'suddenli', 'sudn', 'sue', 'suffer', 'suffici', 'sugabab', 'sugar', 'suggest', 'suit', 'suitem', 'sullivan', 'sum', 'sumf', 'summer', 'sumthin', 'sun', 'sunday', 'sunlight', 'sunni', 'sunoco', 'sunshin', 'suntec', 'sup', 'super', 'superb', 'superior', 'supervisor', 'supos', 'suppli', 'support', 'suppos', 'suprman', 'sura', 'sure', 'surf', 'surli', 'surnam', 'surpris', 'surrend', 'survey', 'sux', 'suzi', 'svc', 'sw', 'swan', 'swann', 'swashbuckl', 'swat', 'swatch', 'sway', 'swayz', 'sweater', 'sweet', 'sweetest', 'sweetheart', 'sweeti', 'swhrt', 'swim', 'swimsuit', 'swing', 'swiss', 'switch', 'swollen', 'swoop', 'swt', 'swtheart', 'syd', 'symbol', 'symptom', 'sync', 'syrup', 'system', 'ta', 'tabl', 'tablet', 'taco', 'tact', 'tag', 'tahan', 'tai', 'tait', 'taj', 'taka', 'take', 'takecar', 'taken', 'takin', 'talent', 'talk', 'talkbut', 'talkin', 'tallahasse', 'tamilnadu', 'tampa', 'tank', 'tantrum', 'tap', 'tape', 'tariff', 'tarpon', 'tast', 'tat', 'taunton', 'taxi', 'taylor', 'tayseer', 'tb', 'tc', 'tcr', 'te', 'tea', 'teach', 'teacher', 'team', 'tear', 'teas', 'tech', 'technic', 'tee', 'teeth', 'tel', 'telediscount', 'telephon', 'tell', 'telli', 'tellmiss', 'telphon', 'telugu', 'temal', 'temp', 'templ', 'ten', 'tenant', 'tenerif', 'tens', 'tension', 'teresa', 'term', 'termin', 'termsappli', 'terri', 'terribl', 'terrif', 'terror', 'terrorist', 'tessi', 'test', 'tex', 'texa', 'texd', 'text', 'textbook', 'textbuddi', 'textcomp', 'textoper', 'textpod', 'tf', 'tg', 'th', 'thandiyachu', 'thangam', 'thank', 'thanksgiv', 'thanku', 'thanx', 'thasa', 'that', 'thatmum', 'theacus', 'theater', 'theatr', 'thekingshead', 'theme', 'themob', 'theoret', 'theori', 'theplac', 'there', 'thesi', 'thesmszon', 'thet', 'thew', 'theyr', 'thfeb', 'thgt', 'thi', 'thia', 'thing', 'think', 'thinkin', 'thinkthi', 'thirtyeight', 'thk', 'thkin', 'thm', 'thmarch', 'thnk', 'thnov', 'thnq', 'tho', 'thot', 'thou', 'though', 'thought', 'thousad', 'thousand', 'thout', 'thread', 'threat', 'three', 'threw', 'thriller', 'throat', 'throw', 'throwin', 'thrown', 'thru', 'tht', 'thu', 'thur', 'thursday', 'thx', 'ti', 'tick', 'ticket', 'tight', 'tigress', 'tih', 'tiim', 'til', 'till', 'time', 'timi', 'tip', 'tire', 'tirunelvai', 'tirunelvali', 'tirupur', 'tissco', 'titl', 'tiwari', 'tix', 'tke', 'tkt', 'tlk', 'tlp', 'tm', 'tming', 'tmorrow', 'tmr', 'tmrw', 'tmw', 'tnc', 'toa', 'toaday', 'tobacco', 'tobe', 'tocal', 'toclaim', 'today', 'tog', 'togeth', 'tohar', 'toilet', 'tok', 'toke', 'told', 'toledo', 'toler', 'toll', 'tom', 'tomarrow', 'tomeandsaid', 'tomo', 'tomorro', 'tomorrow', 'ton', 'tone', 'tonex', 'tongu', 'tonight', 'tonit', 'took', 'tookplac', 'tool', 'tooo', 'toot', 'tooth', 'toothpast', 'top', 'topic', 'toplay', 'toppoli', 'torch', 'tortilla', 'tortur', 'toshiba', 'tot', 'total', 'touch', 'tough', 'toughest', 'tour', 'toward', 'town', 'toyota', 'tr', 'track', 'trackmarqu', 'trade', 'tradit', 'traffic', 'train', 'trainner', 'tram', 'tranquil', 'transact', 'transfer', 'transfr', 'transport', 'trash', 'trav', 'travel', 'treacl', 'treadmil', 'treasur', 'treat', 'treatin', 'tree', 'tri', 'trial', 'trip', 'tripl', 'trishul', 'tron', 'troubl', 'trouser', 'trubl', 'truck', 'true', 'truffl', 'truli', 'trust', 'truth', 'ts', 'tsandc', 'tsc', 'tsunami', 'tt', 'ttyl', 'tue', 'tuesday', 'tuition', 'tulip', 'tulsi', 'tune', 'turkey', 'turn', 'tuth', 'tv', 'twelv', 'twenti', 'twice', 'twilight', 'twin', 'twink', 'two', 'txt', 'txtauction', 'txtin', 'txting', 'txtno', 'txtstar', 'txtstop', 'txttowin', 'txtx', 'tyler', 'type', 'typic', 'tyron', 'uawak', 'ubandu', 'ubi', 'ud', 'ugh', 'ugo', 'uh', 'uhhhhrmm', 'uin', 'ujhhhhhhh', 'uk', 'ukp', 'ultim', 'ultimatum', 'um', 'umma', 'ummifi', 'ummma', 'ummmmmaah', 'un', 'unabl', 'unbeliev', 'unbreak', 'uncl', 'unclaim', 'unconsci', 'unconvinc', 'uncount', 'uncut', 'underdtand', 'understand', 'understood', 'underwear', 'undrstnd', 'unemploy', 'unev', 'unfortun', 'unhappi', 'uni', 'unicef', 'unintent', 'uniqu', 'unit', 'univ', 'univers', 'unkempt', 'unknown', 'unless', 'unlik', 'unlimit', 'unnecessarili', 'unrecogn', 'unredeem', 'unsecur', 'unsold', 'unsub', 'unsubscrib', 'untam', 'up', 'upcharg', 'upd', 'updat', 'upgrad', 'upload', 'upon', 'upset', 'upstair', 'upto', 'ur', 'urawinn', 'ure', 'urfeel', 'urgent', 'urgh', 'urgnt', 'url', 'urmom', 'urn', 'urself', 'us', 'usb', 'usc', 'use', 'useless', 'user', 'usf', 'usher', 'usml', 'usp', 'usual', 'uteru', 'utter', 'utxt', 'uup', 'uve', 'uworld', 'uz', 'vaazhthukk', 'vagu', 'vale', 'valentin', 'valid', 'valu', 'valuabl', 'vari', 'variou', 'varma', 'varunnathu', 'vat', 'vatian', 'vava', 'vco', 'vday', 'vega', 'veget', 'vehicl', 'velusami', 'venugop', 'verifi', 'version', 'versu', 'vettam', 'vewi', 'via', 'vibrant', 'vibrat', 'vic', 'victoria', 'vid', 'video', 'videochat', 'videophon', 'videosound', 'view', 'vijay', 'vijaykanth', 'vikki', 'vilikkam', 'vill', 'villa', 'villag', 'vinobanagar', 'violat', 'violenc', 'violet', 'vip', 'vipclub', 'virgil', 'virgin', 'virtual', 'visa', 'visionsm', 'visit', 'visitor', 'vital', 'viva', 'vivek', 'vl', 'voda', 'vodafon', 'vodka', 'voila', 'volcano', 'vomit', 'vomitin', 'vote', 'vouch', 'voucher', 'vri', 'vth', 'vu', 'wa', 'wad', 'wadebridg', 'wah', 'wahe', 'waheeda', 'waht', 'wait', 'waitin', 'wake', 'wale', 'walk', 'wall', 'wallpap', 'walmart', 'walsal', 'wamma', 'wan', 'wana', 'wannatel', 'want', 'wap', 'ward', 'warm', 'warn', 'warner', 'warranti', 'warwick', 'washob', 'wasnt', 'wast', 'wat', 'watch', 'watchng', 'wate', 'water', 'watev', 'watr', 'watt', 'wave', 'waxsto', 'way', 'waz', 'wb', 'wc', 'weak', 'weapon', 'wear', 'weasel', 'weather', 'web', 'webadr', 'webeburnin', 'websit', 'wed', 'weddingfriend', 'wednesday', 'wee', 'weed', 'week', 'weekday', 'weekend', 'weekli', 'weigh', 'weight', 'weightloss', 'weird', 'weirdest', 'weirdi', 'welcom', 'well', 'wellda', 'welp', 'wen', 'wenev', 'went', 'wenwecan', 'wer', 'werebor', 'wesley', 'west', 'western', 'westlif', 'wet', 'wewa', 'what', 'whatev', 'whatsup', 'wheat', 'when', 'whenev', 'whenevr', 'wherear', 'wherev', 'wherevr', 'wherr', 'whether', 'whisper', 'white', 'whn', 'who', 'whole', 'whore', 'whose', 'whr', 'wick', 'wicket', 'wicklow', 'wid', 'widel', 'wif', 'wife', 'wifi', 'wihtuot', 'wil', 'wild', 'wildest', 'will', 'willpow', 'win', 'winaweek', 'winawk', 'wind', 'windi', 'window', 'wine', 'wing', 'winner', 'winnersclub', 'wipro', 'wire', 'wisdom', 'wise', 'wish', 'wishin', 'wishlist', 'wiskey', 'wit', 'wither', 'within', 'without', 'witout', 'wiv', 'wk', 'wkend', 'wkent', 'wkg', 'wkli', 'wknd', 'wlcome', 'wld', 'wml', 'wn', 'wnt', 'wo', 'woah', 'wocay', 'woke', 'woken', 'woman', 'womdarful', 'women', 'wondarful', 'wonder', 'wont', 'woo', 'woodland', 'woohoo', 'woot', 'woould', 'worc', 'word', 'work', 'workag', 'workin', 'workout', 'world', 'worm', 'worri', 'wors', 'worst', 'worth', 'wot', 'wotu', 'wotz', 'woul', 'would', 'woulda', 'wound', 'wow', 'wp', 'wq', 'wr', 'wrc', 'wrd', 'wreck', 'wrench', 'wright', 'write', 'writh', 'wrk', 'wrkin', 'wrld', 'wrnog', 'wrong', 'wrote', 'ws', 'wt', 'wtf', 'wth', 'wthout', 'wtlp', 'wu', 'wud', 'wudn', 'wuld', 'wun', 'wv', 'www', 'wx', 'wyli', 'xafter', 'xam', 'xavier', 'xchat', 'xe', 'xh', 'xin', 'xma', 'xn', 'xt', 'xuhui', 'xx', 'xxx', 'xxxmobilemovieclub', 'xxxx', 'xxxxx', 'xxxxxx', 'xxxxxxx', 'xxxxxxxxx', 'xxxxxxxxxxxxxx', 'xy', 'ya', 'yah', 'yahoo', 'yalrigu', 'yan', 'yar', 'yarasu', 'yard', 'yaxx', 'yaxxx', 'yay', 'yck', 'ye', 'yeah', 'year', 'yeh', 'yell', 'yellow', 'yelow', 'yeovil', 'yep', 'yer', 'yest', 'yesterday', 'yet', 'yetti', 'yetund', 'yf', 'yifeng', 'yiju', 'ym', 'yo', 'yoga', 'yogasana', 'yor', 'yorg', 'youdo', 'youi', 'young', 'younger', 'youphon', 'your', 'youwanna', 'yovil', 'yowif', 'yoyyooo', 'yr', 'ystrday', 'yt', 'ything', 'yummi', 'yun', 'yunni', 'yuo', 'yuou', 'yup', 'zac', 'zaher', 'zealand', 'zebra', 'zed', 'zero', 'zf', 'zindgi', 'zoe', 'zoom', 'zs']\n"
     ]
    }
   ],
   "source": [
    "from sklearn.feature_extraction.text import CountVectorizer\n",
    "vectorizer=CountVectorizer(max_features=5000)\n",
    "X_data=vectorizer.fit_transform(c)\n",
    "print(vectorizer.get_feature_names())"
   ]
  },
  {
   "cell_type": "code",
   "execution_count": 15,
   "metadata": {},
   "outputs": [],
   "source": [
    "#saving the model  \n",
    "pickle.dump(vectorizer,open('vectorizer.pkl','wb'))"
   ]
  },
  {
   "cell_type": "code",
   "execution_count": 16,
   "metadata": {},
   "outputs": [],
   "source": [
    "#converting the categorical data in the label column to numeri#for each of the \n",
    "#for each of the message if it is spam then 1 else 0\n",
    "Y=np.empty(len(df),dtype=int)\n",
    "for i in range(0,len(df)):\n",
    "    if df['label'][i]=='spam':\n",
    "        Y[i]=1\n",
    "    else:\n",
    "        Y[i]=0"
   ]
  },
  {
   "cell_type": "code",
   "execution_count": 17,
   "metadata": {},
   "outputs": [
    {
     "name": "stdout",
     "output_type": "stream",
     "text": [
      "NonSpam Message in Training Dataset 3876\n",
      "Spam Message in Training Dataset 581\n",
      "NonSpam Message in Test Dataset 949\n",
      "Spam Message in Test Dataset 166\n"
     ]
    }
   ],
   "source": [
    "#splitting of the dataset into train and test data\n",
    "X_train,X_test,Y_train,Y_test = train_test_split(X_data,Y,test_size=0.2, random_state=0)\n",
    "\n",
    "np.count_nonzero(Y_train==1)\n",
    "np.count_nonzero(Y_test==0)\n",
    "np.count_nonzero(Y_test==1)\n",
    "print(\"NonSpam Message in Training Dataset\",np.count_nonzero(Y_train==0))\n",
    "print(\"Spam Message in Training Dataset\",np.count_nonzero(Y_train==1))\n",
    "print(\"NonSpam Message in Test Dataset\",np.count_nonzero(Y_test==0))\n",
    "print(\"Spam Message in Test Dataset\",np.count_nonzero(Y_test==1))"
   ]
  },
  {
   "cell_type": "code",
   "execution_count": 18,
   "metadata": {},
   "outputs": [
    {
     "data": {
      "text/plain": [
       "MultinomialNB()"
      ]
     },
     "execution_count": 18,
     "metadata": {},
     "output_type": "execute_result"
    }
   ],
   "source": [
    "#using Naive Bayes Classifier\n",
    "from sklearn.naive_bayes import MultinomialNB\n",
    "my_model=MultinomialNB()\n",
    "my_model.fit(X_train,Y_train)"
   ]
  },
  {
   "cell_type": "code",
   "execution_count": 19,
   "metadata": {},
   "outputs": [
    {
     "data": {
      "text/plain": [
       "array([0, 0, 0, ..., 0, 0, 0])"
      ]
     },
     "execution_count": 19,
     "metadata": {},
     "output_type": "execute_result"
    }
   ],
   "source": [
    "#predict the values for Test DataSet\n",
    "prediction=my_model.predict(X_test)\n",
    "prediction"
   ]
  },
  {
   "cell_type": "code",
   "execution_count": 20,
   "metadata": {},
   "outputs": [
    {
     "data": {
      "text/plain": [
       "array([[935,  14],\n",
       "       [  9, 157]])"
      ]
     },
     "execution_count": 20,
     "metadata": {},
     "output_type": "execute_result"
    },
    {
     "data": {
      "image/png": "[encoded data removed]",
      "text/plain": [
       "<Figure size 432x288 with 2 Axes>"
      ]
     },
     "metadata": {
      "needs_background": "light"
     },
     "output_type": "display_data"
    }
   ],
   "source": [
    "#plotting of the confusion matrix \n",
    "matrix = confusion_matrix(Y_test,prediction)\n",
    "metrics.plot_confusion_matrix(my_model,X_test,Y_test)\n",
    "matrix"
   ]
  },
  {
   "cell_type": "code",
   "execution_count": 21,
   "metadata": {},
   "outputs": [
    {
     "data": {
      "text/plain": [
       "97.9372197309417"
      ]
     },
     "execution_count": 21,
     "metadata": {},
     "output_type": "execute_result"
    }
   ],
   "source": [
    "accuracy = accuracy_score(Y_test,prediction)\n",
    "accuracy*100"
   ]
  },
  {
   "cell_type": "code",
   "execution_count": 22,
   "metadata": {},
   "outputs": [],
   "source": [
    "pickle.dump(my_model,open('my_model.pkl','wb'))"
   ]
  }
 ],
 "metadata": {
  "kernelspec": {
   "display_name": "Python 3",
   "language": "python",
   "name": "python3"
  },
  "language_info": {
   "codemirror_mode": {
    "name": "ipython",
    "version": 3
   },
   "file_extension": ".py",
   "mimetype": "text/x-python",
   "name": "python",
   "nbconvert_exporter": "python",
   "pygments_lexer": "ipython3",
   "version": "3.8.3"
  }
 },
 "nbformat": 4,
 "nbformat_minor": 4
}
